{
 "cells": [
  {
   "cell_type": "code",
   "execution_count": 76,
   "id": "b7b095f9-c70a-4e2c-bd9d-05fcd1488cdc",
   "metadata": {},
   "outputs": [],
   "source": [
    "# import libraries\n",
    "import pandas as pd\n",
    "import seaborn as sns\n",
    "import matplotlib.pyplot as plt\n",
    "import numpy as np\n",
    "from sklearn.impute import KNNImputer\n",
    "from sklearn.model_selection import train_test_split\n",
    "from sklearn.linear_model import LinearRegression\n",
    "from sklearn.metrics import mean_squared_error, r2_score\n",
    "import statsmodels.api as sm\n",
    "from sklearn.model_selection import cross_val_score\n",
    "from sklearn.linear_model import ElasticNet, Lasso,  BayesianRidge, LassoLarsIC\n",
    "from sklearn.preprocessing import LabelEncoder, OneHotEncoder, StandardScaler"
   ]
  },
  {
   "cell_type": "markdown",
   "id": "b0fc4413-051d-46ad-baa8-c118c73ed31b",
   "metadata": {},
   "source": [
    "### 1. Data Exploration and Visualization"
   ]
  },
  {
   "cell_type": "code",
   "execution_count": 11,
   "id": "223c1c9f-a40b-466b-83d5-9c542924a8ad",
   "metadata": {},
   "outputs": [],
   "source": [
    "house_df = pd.read_csv(\"Melbourne_housing.csv\")"
   ]
  },
  {
   "cell_type": "code",
   "execution_count": 12,
   "id": "bc1d5e4e-ef94-4d7f-9e9a-0f99b057bb6d",
   "metadata": {
    "scrolled": true
   },
   "outputs": [
    {
     "data": {
      "text/html": [
       "<div>\n",
       "<style scoped>\n",
       "    .dataframe tbody tr th:only-of-type {\n",
       "        vertical-align: middle;\n",
       "    }\n",
       "\n",
       "    .dataframe tbody tr th {\n",
       "        vertical-align: top;\n",
       "    }\n",
       "\n",
       "    .dataframe thead th {\n",
       "        text-align: right;\n",
       "    }\n",
       "</style>\n",
       "<table border=\"1\" class=\"dataframe\">\n",
       "  <thead>\n",
       "    <tr style=\"text-align: right;\">\n",
       "      <th></th>\n",
       "      <th>Suburb</th>\n",
       "      <th>Address</th>\n",
       "      <th>Rooms</th>\n",
       "      <th>Type</th>\n",
       "      <th>Price</th>\n",
       "      <th>Method</th>\n",
       "      <th>SellerG</th>\n",
       "      <th>Date</th>\n",
       "      <th>Distance</th>\n",
       "      <th>Postcode</th>\n",
       "      <th>...</th>\n",
       "      <th>Bathroom</th>\n",
       "      <th>Car</th>\n",
       "      <th>Landsize</th>\n",
       "      <th>BuildingArea</th>\n",
       "      <th>YearBuilt</th>\n",
       "      <th>CouncilArea</th>\n",
       "      <th>Lattitude</th>\n",
       "      <th>Longtitude</th>\n",
       "      <th>Regionname</th>\n",
       "      <th>Propertycount</th>\n",
       "    </tr>\n",
       "  </thead>\n",
       "  <tbody>\n",
       "    <tr>\n",
       "      <th>0</th>\n",
       "      <td>Thornbury</td>\n",
       "      <td>7/67 Pender St</td>\n",
       "      <td>2</td>\n",
       "      <td>u</td>\n",
       "      <td>438000.0</td>\n",
       "      <td>SP</td>\n",
       "      <td>Love</td>\n",
       "      <td>22/08/2016</td>\n",
       "      <td>6.5</td>\n",
       "      <td>3071</td>\n",
       "      <td>...</td>\n",
       "      <td>1.0</td>\n",
       "      <td>1.0</td>\n",
       "      <td>0.0</td>\n",
       "      <td>66.0</td>\n",
       "      <td>1970.0</td>\n",
       "      <td>Darebin City Council</td>\n",
       "      <td>-37.7541</td>\n",
       "      <td>145.0088</td>\n",
       "      <td>Northern Metropolitan</td>\n",
       "      <td>8870</td>\n",
       "    </tr>\n",
       "    <tr>\n",
       "      <th>1</th>\n",
       "      <td>Coburg</td>\n",
       "      <td>32 Rose St</td>\n",
       "      <td>2</td>\n",
       "      <td>h</td>\n",
       "      <td>901000.0</td>\n",
       "      <td>S</td>\n",
       "      <td>Peter</td>\n",
       "      <td>27/06/2016</td>\n",
       "      <td>7.8</td>\n",
       "      <td>3058</td>\n",
       "      <td>...</td>\n",
       "      <td>1.0</td>\n",
       "      <td>1.0</td>\n",
       "      <td>545.0</td>\n",
       "      <td>107.0</td>\n",
       "      <td>1940.0</td>\n",
       "      <td>Darebin City Council</td>\n",
       "      <td>-37.7445</td>\n",
       "      <td>144.9471</td>\n",
       "      <td>Northern Metropolitan</td>\n",
       "      <td>11204</td>\n",
       "    </tr>\n",
       "    <tr>\n",
       "      <th>2</th>\n",
       "      <td>Bentleigh East</td>\n",
       "      <td>2/25 Brooks St</td>\n",
       "      <td>3</td>\n",
       "      <td>u</td>\n",
       "      <td>800000.0</td>\n",
       "      <td>S</td>\n",
       "      <td>Woodards</td>\n",
       "      <td>28/05/2016</td>\n",
       "      <td>13.9</td>\n",
       "      <td>3165</td>\n",
       "      <td>...</td>\n",
       "      <td>2.0</td>\n",
       "      <td>2.0</td>\n",
       "      <td>261.0</td>\n",
       "      <td>NaN</td>\n",
       "      <td>NaN</td>\n",
       "      <td>Glen Eira City Council</td>\n",
       "      <td>-37.9163</td>\n",
       "      <td>145.0779</td>\n",
       "      <td>Southern Metropolitan</td>\n",
       "      <td>10969</td>\n",
       "    </tr>\n",
       "    <tr>\n",
       "      <th>3</th>\n",
       "      <td>Templestowe Lower</td>\n",
       "      <td>2/35 John St</td>\n",
       "      <td>3</td>\n",
       "      <td>t</td>\n",
       "      <td>1155000.0</td>\n",
       "      <td>S</td>\n",
       "      <td>Jellis</td>\n",
       "      <td>25/11/2017</td>\n",
       "      <td>12.4</td>\n",
       "      <td>3107</td>\n",
       "      <td>...</td>\n",
       "      <td>NaN</td>\n",
       "      <td>NaN</td>\n",
       "      <td>NaN</td>\n",
       "      <td>NaN</td>\n",
       "      <td>NaN</td>\n",
       "      <td>Manningham City Council</td>\n",
       "      <td>NaN</td>\n",
       "      <td>NaN</td>\n",
       "      <td>Eastern Metropolitan</td>\n",
       "      <td>5420</td>\n",
       "    </tr>\n",
       "    <tr>\n",
       "      <th>4</th>\n",
       "      <td>South Yarra</td>\n",
       "      <td>1/35 Marne St</td>\n",
       "      <td>3</td>\n",
       "      <td>u</td>\n",
       "      <td>1630000.0</td>\n",
       "      <td>PI</td>\n",
       "      <td>Jellis</td>\n",
       "      <td>10/9/2016</td>\n",
       "      <td>3.3</td>\n",
       "      <td>3141</td>\n",
       "      <td>...</td>\n",
       "      <td>1.0</td>\n",
       "      <td>1.0</td>\n",
       "      <td>0.0</td>\n",
       "      <td>NaN</td>\n",
       "      <td>NaN</td>\n",
       "      <td>Melbourne City Council</td>\n",
       "      <td>-37.8359</td>\n",
       "      <td>144.9839</td>\n",
       "      <td>Southern Metropolitan</td>\n",
       "      <td>14887</td>\n",
       "    </tr>\n",
       "  </tbody>\n",
       "</table>\n",
       "<p>5 rows × 21 columns</p>\n",
       "</div>"
      ],
      "text/plain": [
       "              Suburb         Address  Rooms Type      Price Method   SellerG  \\\n",
       "0          Thornbury  7/67 Pender St      2    u   438000.0     SP      Love   \n",
       "1             Coburg      32 Rose St      2    h   901000.0      S     Peter   \n",
       "2     Bentleigh East  2/25 Brooks St      3    u   800000.0      S  Woodards   \n",
       "3  Templestowe Lower    2/35 John St      3    t  1155000.0      S    Jellis   \n",
       "4        South Yarra   1/35 Marne St      3    u  1630000.0     PI    Jellis   \n",
       "\n",
       "         Date  Distance  Postcode  ...  Bathroom  Car  Landsize  BuildingArea  \\\n",
       "0  22/08/2016       6.5      3071  ...       1.0  1.0       0.0          66.0   \n",
       "1  27/06/2016       7.8      3058  ...       1.0  1.0     545.0         107.0   \n",
       "2  28/05/2016      13.9      3165  ...       2.0  2.0     261.0           NaN   \n",
       "3  25/11/2017      12.4      3107  ...       NaN  NaN       NaN           NaN   \n",
       "4   10/9/2016       3.3      3141  ...       1.0  1.0       0.0           NaN   \n",
       "\n",
       "   YearBuilt              CouncilArea Lattitude  Longtitude  \\\n",
       "0     1970.0     Darebin City Council  -37.7541    145.0088   \n",
       "1     1940.0     Darebin City Council  -37.7445    144.9471   \n",
       "2        NaN   Glen Eira City Council  -37.9163    145.0779   \n",
       "3        NaN  Manningham City Council       NaN         NaN   \n",
       "4        NaN   Melbourne City Council  -37.8359    144.9839   \n",
       "\n",
       "              Regionname Propertycount  \n",
       "0  Northern Metropolitan          8870  \n",
       "1  Northern Metropolitan         11204  \n",
       "2  Southern Metropolitan         10969  \n",
       "3   Eastern Metropolitan          5420  \n",
       "4  Southern Metropolitan         14887  \n",
       "\n",
       "[5 rows x 21 columns]"
      ]
     },
     "execution_count": 12,
     "metadata": {},
     "output_type": "execute_result"
    }
   ],
   "source": [
    "house_df.head()"
   ]
  },
  {
   "cell_type": "code",
   "execution_count": 13,
   "id": "8d92211d-98e1-449e-83df-893dc064a75d",
   "metadata": {},
   "outputs": [
    {
     "name": "stdout",
     "output_type": "stream",
     "text": [
      "<class 'pandas.core.frame.DataFrame'>\n",
      "RangeIndex: 499 entries, 0 to 498\n",
      "Data columns (total 21 columns):\n",
      " #   Column         Non-Null Count  Dtype  \n",
      "---  ------         --------------  -----  \n",
      " 0   Suburb         499 non-null    object \n",
      " 1   Address        499 non-null    object \n",
      " 2   Rooms          499 non-null    int64  \n",
      " 3   Type           499 non-null    object \n",
      " 4   Price          391 non-null    float64\n",
      " 5   Method         499 non-null    object \n",
      " 6   SellerG        499 non-null    object \n",
      " 7   Date           499 non-null    object \n",
      " 8   Distance       499 non-null    float64\n",
      " 9   Postcode       499 non-null    int64  \n",
      " 10  Bedroom2       371 non-null    float64\n",
      " 11  Bathroom       371 non-null    float64\n",
      " 12  Car            362 non-null    float64\n",
      " 13  Landsize       325 non-null    float64\n",
      " 14  BuildingArea   189 non-null    float64\n",
      " 15  YearBuilt      212 non-null    float64\n",
      " 16  CouncilArea    499 non-null    object \n",
      " 17  Lattitude      377 non-null    float64\n",
      " 18  Longtitude     377 non-null    float64\n",
      " 19  Regionname     499 non-null    object \n",
      " 20  Propertycount  499 non-null    int64  \n",
      "dtypes: float64(10), int64(3), object(8)\n",
      "memory usage: 82.0+ KB\n"
     ]
    }
   ],
   "source": [
    "house_df.info()"
   ]
  },
  {
   "cell_type": "code",
   "execution_count": 14,
   "id": "dc41b5b9-fcdc-4698-a3bf-c21f9dc1e647",
   "metadata": {},
   "outputs": [],
   "source": [
    "columns_to_drop = []\n",
    "def cal_missing(df):\n",
    "    for col in df.columns.tolist():\n",
    "        missing = round(100*(df[col].isnull().sum()/len(df[col])),2)\n",
    "        print(f'{col} missing values : {missing}')\n",
    "        if missing >30:\n",
    "            columns_to_drop.append(col)"
   ]
  },
  {
   "cell_type": "code",
   "execution_count": 15,
   "id": "50eab434-eb58-454b-8132-4d413646598c",
   "metadata": {},
   "outputs": [
    {
     "name": "stdout",
     "output_type": "stream",
     "text": [
      "Suburb missing values : 0.0\n",
      "Address missing values : 0.0\n",
      "Rooms missing values : 0.0\n",
      "Type missing values : 0.0\n",
      "Price missing values : 21.64\n",
      "Method missing values : 0.0\n",
      "SellerG missing values : 0.0\n",
      "Date missing values : 0.0\n",
      "Distance missing values : 0.0\n",
      "Postcode missing values : 0.0\n",
      "Bedroom2 missing values : 25.65\n",
      "Bathroom missing values : 25.65\n",
      "Car missing values : 27.45\n",
      "Landsize missing values : 34.87\n",
      "BuildingArea missing values : 62.12\n",
      "YearBuilt missing values : 57.52\n",
      "CouncilArea missing values : 0.0\n",
      "Lattitude missing values : 24.45\n",
      "Longtitude missing values : 24.45\n",
      "Regionname missing values : 0.0\n",
      "Propertycount missing values : 0.0\n",
      "\n",
      "\n",
      "['Landsize', 'BuildingArea', 'YearBuilt']\n"
     ]
    }
   ],
   "source": [
    "cal_missing(house_df)\n",
    "print('\\n')\n",
    "print(columns_to_drop)"
   ]
  },
  {
   "cell_type": "code",
   "execution_count": 16,
   "id": "1ab4d65c-509b-4169-bd63-b708143ede1d",
   "metadata": {
    "scrolled": true
   },
   "outputs": [
    {
     "data": {
      "image/png": "[encoded data removed]",
      "text/plain": [
       "<Figure size 300x300 with 1 Axes>"
      ]
     },
     "metadata": {},
     "output_type": "display_data"
    },
    {
     "data": {
      "image/png": "[encoded data removed]",
      "text/plain": [
       "<Figure size 300x300 with 1 Axes>"
      ]
     },
     "metadata": {},
     "output_type": "display_data"
    },
    {
     "data": {
      "image/png": "[encoded data removed]",
      "text/plain": [
       "<Figure size 300x300 with 1 Axes>"
      ]
     },
     "metadata": {},
     "output_type": "display_data"
    },
    {
     "data": {
      "image/png": "[encoded data removed]",
      "text/plain": [
       "<Figure size 300x300 with 1 Axes>"
      ]
     },
     "metadata": {},
     "output_type": "display_data"
    },
    {
     "data": {
      "image/png": "[encoded data removed]",
      "text/plain": [
       "<Figure size 300x300 with 1 Axes>"
      ]
     },
     "metadata": {},
     "output_type": "display_data"
    },
    {
     "data": {
      "image/png": "[encoded data removed]",
      "text/plain": [
       "<Figure size 300x300 with 1 Axes>"
      ]
     },
     "metadata": {},
     "output_type": "display_data"
    }
   ],
   "source": [
    "## Analyzing categorical columns \n",
    "cat_col = ['Type', 'Rooms', 'Method','Bedroom2', 'Bathroom', 'Car']\n",
    "for col in cat_col:\n",
    "    plt.figure(figsize = (3,3))\n",
    "    sns.boxplot(y=np.log(house_df[\"Price\"]), x= house_df[col])\n",
    "    plt.show()"
   ]
  },
  {
   "cell_type": "code",
   "execution_count": 17,
   "id": "b8990d76-7bf9-4513-87c6-a863b60c7a32",
   "metadata": {
    "scrolled": true
   },
   "outputs": [
    {
     "data": {
      "image/png": "[encoded data removed]",
      "text/plain": [
       "<Figure size 300x300 with 1 Axes>"
      ]
     },
     "metadata": {},
     "output_type": "display_data"
    },
    {
     "data": {
      "image/png": "[encoded data removed]",
      "text/plain": [
       "<Figure size 300x300 with 1 Axes>"
      ]
     },
     "metadata": {},
     "output_type": "display_data"
    },
    {
     "data": {
      "image/png": "[encoded data removed]",
      "text/plain": [
       "<Figure size 300x300 with 1 Axes>"
      ]
     },
     "metadata": {},
     "output_type": "display_data"
    }
   ],
   "source": [
    "## Analyzing Numerical columns \n",
    "num_cols = ['Distance','Landsize', 'Propertycount']\n",
    "for col in num_cols:\n",
    "    plt.figure(figsize = (3,3))\n",
    "    sns.scatterplot(y=np.log(house_df[\"Price\"]), x= house_df[col])\n",
    "    plt.show()"
   ]
  },
  {
   "cell_type": "code",
   "execution_count": 18,
   "id": "e8d5d3a0-4fb1-42ba-b9cc-a9f02eaf1f28",
   "metadata": {
    "scrolled": true
   },
   "outputs": [
    {
     "name": "stderr",
     "output_type": "stream",
     "text": [
      "/var/folders/ly/npw69p7x4lg1l7s7mm3y7twm0000gn/T/ipykernel_22773/3428445405.py:3: UserWarning: \n",
      "\n",
      "`distplot` is a deprecated function and will be removed in seaborn v0.14.0.\n",
      "\n",
      "Please adapt your code to use either `displot` (a figure-level function with\n",
      "similar flexibility) or `histplot` (an axes-level function for histograms).\n",
      "\n",
      "For a guide to updating your code to use the new functions, please see\n",
      "https://gist.github.com/mwaskom/de44147ed2974457ad6372750bbe5751\n",
      "\n",
      "  sns.distplot(house_df[\"Price\"])\n"
     ]
    },
    {
     "data": {
      "image/png": "[encoded data removed]",
      "text/plain": [
       "<Figure size 300x300 with 1 Axes>"
      ]
     },
     "metadata": {},
     "output_type": "display_data"
    }
   ],
   "source": [
    "## checking the distribution of Price (target Variable) after using log transformation\n",
    "plt.figure(figsize=(3,3))\n",
    "sns.distplot(house_df[\"Price\"])\n",
    "plt.show()"
   ]
  },
  {
   "cell_type": "code",
   "execution_count": 19,
   "id": "c59c6ce1-9b29-4c82-be73-658682298184",
   "metadata": {},
   "outputs": [
    {
     "data": {
      "image/png": "[encoded data removed]",
      "text/plain": [
       "<Figure size 300x300 with 1 Axes>"
      ]
     },
     "metadata": {},
     "output_type": "display_data"
    }
   ],
   "source": [
    "## checking the box plot without log transformation for looking at outliers\n",
    "plt.figure(figsize=(3,3))\n",
    "sns.boxplot(house_df[\"Price\"])\n",
    "plt.show()"
   ]
  },
  {
   "cell_type": "code",
   "execution_count": 20,
   "id": "df8d134f-33f3-4844-bae0-c62af24f7eb9",
   "metadata": {},
   "outputs": [
    {
     "data": {
      "image/png": "[encoded data removed]",
      "text/plain": [
       "<Figure size 300x300 with 1 Axes>"
      ]
     },
     "metadata": {},
     "output_type": "display_data"
    }
   ],
   "source": [
    "## checking the box plot after log transforming to check if we could treat those outliers\n",
    "plt.figure(figsize=(3,3))\n",
    "sns.boxplot(np.log(house_df[\"Price\"]))\n",
    "plt.show()"
   ]
  },
  {
   "cell_type": "markdown",
   "id": "6afb5785-4639-4d06-b89b-29c5c14d74fd",
   "metadata": {},
   "source": [
    "Interpretations\n",
    "- The Target variable - price is not normally distributed with plenty of outliers. Using log Transformation helps in normally distributing it.  \n",
    "\n",
    "- Categorical Variables like Bedrooms, bathrooms, car parks seem to have an impact on the price distribution. Higher the number of bedrooms, car parks, bathroom, the higher the sales price.\n",
    "\n",
    "- There are two columns ['BuildingArea', 'YearBuilt'] which have more than 40% of data as null.\n",
    "\n",
    "- The column Landsize doesn't have a normally distributed datapoints and has a lot of zeros. We might need to use log transformation for this but this may not work since using log on 0 gives negative infinity. "
   ]
  },
  {
   "cell_type": "markdown",
   "id": "7458a766-7947-419a-9ffb-5f49344565d9",
   "metadata": {},
   "source": [
    "### 2. Linear Regression Model Development"
   ]
  },
  {
   "cell_type": "markdown",
   "id": "c1991600-648c-46e8-9b90-4fb929710162",
   "metadata": {},
   "source": [
    "Preprocess the data as necessary (handling missing values, encoding categorical variables, removing unnecessary columns etc.)."
   ]
  },
  {
   "cell_type": "code",
   "execution_count": 21,
   "id": "8ace92b2-396a-4935-9573-dc31fb851212",
   "metadata": {},
   "outputs": [
    {
     "name": "stdout",
     "output_type": "stream",
     "text": [
      "['Landsize', 'BuildingArea', 'YearBuilt']\n"
     ]
    }
   ],
   "source": [
    "## Dropping the variables with more than 30% missing values\n",
    "print(columns_to_drop)\n",
    "house_df = house_df.drop(columns=columns_to_drop,axis =1)"
   ]
  },
  {
   "cell_type": "code",
   "execution_count": 22,
   "id": "df3019e9-5a79-4e35-9d07-23afae006821",
   "metadata": {},
   "outputs": [],
   "source": [
    "## Recognized further unnecessary variables which will not have impact on our target variable\n",
    "house_df = house_df.drop(columns=['Address','Date','Lattitude', 'Longtitude'])"
   ]
  },
  {
   "cell_type": "code",
   "execution_count": 23,
   "id": "eb8cbd8a-e0d2-45b6-a73b-605bcfd4c332",
   "metadata": {},
   "outputs": [
    {
     "data": {
      "text/plain": [
       "Suburb            0\n",
       "Rooms             0\n",
       "Type              0\n",
       "Price             0\n",
       "Method            0\n",
       "SellerG           0\n",
       "Distance          0\n",
       "Postcode          0\n",
       "Bedroom2         92\n",
       "Bathroom         92\n",
       "Car              99\n",
       "CouncilArea       0\n",
       "Regionname        0\n",
       "Propertycount     0\n",
       "dtype: int64"
      ]
     },
     "execution_count": 23,
     "metadata": {},
     "output_type": "execute_result"
    }
   ],
   "source": [
    "## Removing the rows which have null values under our Target Variable\n",
    "house_df= house_df.dropna(subset=[\"Price\"])\n",
    "## Checking for remaining null values\n",
    "house_df.isnull().sum()"
   ]
  },
  {
   "cell_type": "code",
   "execution_count": 24,
   "id": "9a9d2b34-998a-4ac2-8a7f-e6457949e0ed",
   "metadata": {},
   "outputs": [],
   "source": [
    "## We will use KNN imputer to fill the missing data in the three columns since all of them are categorical variables and \n",
    "## KNN imputer does well since it is a multivariate imputer.\n",
    "\n",
    "imputer = KNNImputer(n_neighbors=5)\n",
    "house_df['Bedroom2'] = imputer.fit_transform(house_df[['Bedroom2']])\n",
    "house_df['Bathroom'] = imputer.fit_transform(house_df[['Bathroom']])\n",
    "house_df['Car'] = imputer.fit_transform(house_df[['Car']])"
   ]
  },
  {
   "cell_type": "code",
   "execution_count": 25,
   "id": "c7756625-f19d-43cf-9030-794b24ffa5bb",
   "metadata": {},
   "outputs": [
    {
     "data": {
      "text/plain": [
       "Suburb           0\n",
       "Rooms            0\n",
       "Type             0\n",
       "Price            0\n",
       "Method           0\n",
       "SellerG          0\n",
       "Distance         0\n",
       "Postcode         0\n",
       "Bedroom2         0\n",
       "Bathroom         0\n",
       "Car              0\n",
       "CouncilArea      0\n",
       "Regionname       0\n",
       "Propertycount    0\n",
       "dtype: int64"
      ]
     },
     "execution_count": 25,
     "metadata": {},
     "output_type": "execute_result"
    }
   ],
   "source": [
    "## Checking for remaining null values\n",
    "house_df.isnull().sum()"
   ]
  },
  {
   "cell_type": "code",
   "execution_count": 26,
   "id": "2a6459c3-d67d-4cb6-bc1d-65b0b9d9ef70",
   "metadata": {},
   "outputs": [],
   "source": [
    "## Log Transforming the Target Variable to make it normally distributed.\n",
    "house_df[\"Price\"] = np.log(house_df[\"Price\"])"
   ]
  },
  {
   "cell_type": "code",
   "execution_count": 27,
   "id": "54f1af33-ba8b-4ef2-aeba-be1a0b279b9e",
   "metadata": {},
   "outputs": [
    {
     "data": {
      "text/plain": [
       "(391, 14)"
      ]
     },
     "execution_count": 27,
     "metadata": {},
     "output_type": "execute_result"
    }
   ],
   "source": [
    "house_df.shape"
   ]
  },
  {
   "cell_type": "markdown",
   "id": "9897d60d-3223-48b9-8166-de601ba8515d",
   "metadata": {},
   "source": [
    "Cleaning the data (steps) \n",
    "\n",
    "- Dropped the variables with more than 30% missing values i.e ['Landsize', 'BuildingArea', 'YearBuilt']\n",
    "  \n",
    "- Recognized further unnecessary variables which will not have impact on our target variable i.e ['Address','Date','Lattitude',\n",
    "  'Longtitude']\n",
    "\n",
    "- Used KNN imputer to fill the missing data in the three columns [Bedroom2, Bathroom, Car] since they were categorical variables.\n",
    "\n",
    "- Log Transforming the Target Variable to make it normally distributed. Also, dropped all rows which had null in the target variable column.\n",
    "\n",
    "- We are left with 391 rows of data and 14 columns (13 predictor variables and 1 Target variable)"
   ]
  },
  {
   "cell_type": "code",
   "execution_count": 45,
   "id": "e0319f29-f095-4e2a-9614-a30f180c97b3",
   "metadata": {},
   "outputs": [
    {
     "data": {
      "text/plain": [
       "Suburb\n",
       "129    10\n",
       "149     9\n",
       "154     8\n",
       "18      8\n",
       "112     8\n",
       "       ..\n",
       "92      1\n",
       "43      1\n",
       "12      1\n",
       "111     1\n",
       "142     1\n",
       "Name: count, Length: 172, dtype: int64"
      ]
     },
     "execution_count": 45,
     "metadata": {},
     "output_type": "execute_result"
    }
   ],
   "source": [
    "house_df['Suburb'].value_counts()"
   ]
  },
  {
   "cell_type": "code",
   "execution_count": 28,
   "id": "872e3fb6-71c4-4038-a3ae-12a5110dd1e9",
   "metadata": {},
   "outputs": [
    {
     "data": {
      "text/plain": [
       "Suburb            object\n",
       "Rooms              int64\n",
       "Type              object\n",
       "Price            float64\n",
       "Method            object\n",
       "SellerG           object\n",
       "Distance         float64\n",
       "Postcode           int64\n",
       "Bedroom2         float64\n",
       "Bathroom         float64\n",
       "Car              float64\n",
       "CouncilArea       object\n",
       "Regionname        object\n",
       "Propertycount      int64\n",
       "dtype: object"
      ]
     },
     "execution_count": 28,
     "metadata": {},
     "output_type": "execute_result"
    }
   ],
   "source": [
    "house_df.dtypes"
   ]
  },
  {
   "cell_type": "code",
   "execution_count": 29,
   "id": "16396144-9143-470b-a401-b74bfa0c2fb3",
   "metadata": {},
   "outputs": [],
   "source": [
    "## Now we will split the columns in to numerical columns and categorical columns\n",
    "label_encod_cols = ['Suburb', 'SellerG','Postcode','CouncilArea' ]\n",
    "one_hot_encod_cols = ['Method','Type','Regionname']\n",
    "numerical_cols = ['Distance', 'Propertycount']\n",
    "no_change_cols = ['Rooms', 'Bedroom2','float64','Car']\n",
    "\n",
    "# The purpose here is all categorical columns with more than 50 different categories are label encoded and the rest are one hot encoded. The reason being to keep the dimension under control for better interpretability.\n",
    "# The numerical columns are seperated so that we can use scalar transform\n",
    "# Some columns like \"rooms\", \"Bedroom2\" have already label encoded date. We will keep it that way since it captures the intuition - more the bedroom higher the price.\n",
    "\n"
   ]
  },
  {
   "cell_type": "code",
   "execution_count": 30,
   "id": "21e57ec3-af3a-49e4-8f9c-b1ce7db00f21",
   "metadata": {},
   "outputs": [],
   "source": [
    "## applying label encoding \n",
    "label_encoder = LabelEncoder()\n",
    "for col in label_encod_cols:\n",
    "    house_df[col] =  label_encoder.fit_transform(house_df[col])\n"
   ]
  },
  {
   "cell_type": "code",
   "execution_count": 31,
   "id": "fbe284d4-e913-4349-884e-725b82c6b7d5",
   "metadata": {},
   "outputs": [],
   "source": [
    "## applying one hot encoding\n",
    "house_df = pd.get_dummies(house_df, columns=one_hot_encod_cols,dtype='int',drop_first=True)"
   ]
  },
  {
   "cell_type": "code",
   "execution_count": 32,
   "id": "2aa1e93a-7a87-422a-86a0-8366519ed87f",
   "metadata": {},
   "outputs": [],
   "source": [
    "## applying standard scaler\n",
    "scaler = StandardScaler()\n",
    "for col in numerical_cols:\n",
    "    house_df[col] = scaler.fit_transform(house_df[[col]])"
   ]
  },
  {
   "cell_type": "code",
   "execution_count": 33,
   "id": "041b8c93-07bd-484c-b9a9-420f400cf61e",
   "metadata": {},
   "outputs": [
    {
     "data": {
      "text/html": [
       "<style>#sk-container-id-1 {color: black;}#sk-container-id-1 pre{padding: 0;}#sk-container-id-1 div.sk-toggleable {background-color: white;}#sk-container-id-1 label.sk-toggleable__label {cursor: pointer;display: block;width: 100%;margin-bottom: 0;padding: 0.3em;box-sizing: border-box;text-align: center;}#sk-container-id-1 label.sk-toggleable__label-arrow:before {content: \"▸\";float: left;margin-right: 0.25em;color: #696969;}#sk-container-id-1 label.sk-toggleable__label-arrow:hover:before {color: black;}#sk-container-id-1 div.sk-estimator:hover label.sk-toggleable__label-arrow:before {color: black;}#sk-container-id-1 div.sk-toggleable__content {max-height: 0;max-width: 0;overflow: hidden;text-align: left;background-color: #f0f8ff;}#sk-container-id-1 div.sk-toggleable__content pre {margin: 0.2em;color: black;border-radius: 0.25em;background-color: #f0f8ff;}#sk-container-id-1 input.sk-toggleable__control:checked~div.sk-toggleable__content {max-height: 200px;max-width: 100%;overflow: auto;}#sk-container-id-1 input.sk-toggleable__control:checked~label.sk-toggleable__label-arrow:before {content: \"▾\";}#sk-container-id-1 div.sk-estimator input.sk-toggleable__control:checked~label.sk-toggleable__label {background-color: #d4ebff;}#sk-container-id-1 div.sk-label input.sk-toggleable__control:checked~label.sk-toggleable__label {background-color: #d4ebff;}#sk-container-id-1 input.sk-hidden--visually {border: 0;clip: rect(1px 1px 1px 1px);clip: rect(1px, 1px, 1px, 1px);height: 1px;margin: -1px;overflow: hidden;padding: 0;position: absolute;width: 1px;}#sk-container-id-1 div.sk-estimator {font-family: monospace;background-color: #f0f8ff;border: 1px dotted black;border-radius: 0.25em;box-sizing: border-box;margin-bottom: 0.5em;}#sk-container-id-1 div.sk-estimator:hover {background-color: #d4ebff;}#sk-container-id-1 div.sk-parallel-item::after {content: \"\";width: 100%;border-bottom: 1px solid gray;flex-grow: 1;}#sk-container-id-1 div.sk-label:hover label.sk-toggleable__label {background-color: #d4ebff;}#sk-container-id-1 div.sk-serial::before {content: \"\";position: absolute;border-left: 1px solid gray;box-sizing: border-box;top: 0;bottom: 0;left: 50%;z-index: 0;}#sk-container-id-1 div.sk-serial {display: flex;flex-direction: column;align-items: center;background-color: white;padding-right: 0.2em;padding-left: 0.2em;position: relative;}#sk-container-id-1 div.sk-item {position: relative;z-index: 1;}#sk-container-id-1 div.sk-parallel {display: flex;align-items: stretch;justify-content: center;background-color: white;position: relative;}#sk-container-id-1 div.sk-item::before, #sk-container-id-1 div.sk-parallel-item::before {content: \"\";position: absolute;border-left: 1px solid gray;box-sizing: border-box;top: 0;bottom: 0;left: 50%;z-index: -1;}#sk-container-id-1 div.sk-parallel-item {display: flex;flex-direction: column;z-index: 1;position: relative;background-color: white;}#sk-container-id-1 div.sk-parallel-item:first-child::after {align-self: flex-end;width: 50%;}#sk-container-id-1 div.sk-parallel-item:last-child::after {align-self: flex-start;width: 50%;}#sk-container-id-1 div.sk-parallel-item:only-child::after {width: 0;}#sk-container-id-1 div.sk-dashed-wrapped {border: 1px dashed gray;margin: 0 0.4em 0.5em 0.4em;box-sizing: border-box;padding-bottom: 0.4em;background-color: white;}#sk-container-id-1 div.sk-label label {font-family: monospace;font-weight: bold;display: inline-block;line-height: 1.2em;}#sk-container-id-1 div.sk-label-container {text-align: center;}#sk-container-id-1 div.sk-container {/* jupyter's `normalize.less` sets `[hidden] { display: none; }` but bootstrap.min.css set `[hidden] { display: none !important; }` so we also need the `!important` here to be able to override the default hidden behavior on the sphinx rendered scikit-learn.org. See: https://github.com/scikit-learn/scikit-learn/issues/21755 */display: inline-block !important;position: relative;}#sk-container-id-1 div.sk-text-repr-fallback {display: none;}</style><div id=\"sk-container-id-1\" class=\"sk-top-container\"><div class=\"sk-text-repr-fallback\"><pre>LinearRegression()</pre><b>In a Jupyter environment, please rerun this cell to show the HTML representation or trust the notebook. <br />On GitHub, the HTML representation is unable to render, please try loading this page with nbviewer.org.</b></div><div class=\"sk-container\" hidden><div class=\"sk-item\"><div class=\"sk-estimator sk-toggleable\"><input class=\"sk-toggleable__control sk-hidden--visually\" id=\"sk-estimator-id-1\" type=\"checkbox\" checked><label for=\"sk-estimator-id-1\" class=\"sk-toggleable__label sk-toggleable__label-arrow\">LinearRegression</label><div class=\"sk-toggleable__content\"><pre>LinearRegression()</pre></div></div></div></div></div>"
      ],
      "text/plain": [
       "LinearRegression()"
      ]
     },
     "execution_count": 33,
     "metadata": {},
     "output_type": "execute_result"
    }
   ],
   "source": [
    "## split the dataset\n",
    "\n",
    "X = house_df[[col for col in house_df.columns if col != 'Price']]\n",
    "y = house_df[\"Price\"]\n",
    "X_train, X_test, y_train, y_test = train_test_split(X, y,  test_size=0.3, random_state=19)\n",
    "\n",
    "## Developing the Linear Regression model \n",
    "lr_model = LinearRegression()\n",
    "## Train the model \n",
    "lr_model.fit(X_train,y_train)\n"
   ]
  },
  {
   "cell_type": "code",
   "execution_count": null,
   "id": "ec42896f-a5f6-4d8b-80f2-7324673a2e90",
   "metadata": {},
   "outputs": [],
   "source": []
  },
  {
   "cell_type": "markdown",
   "id": "de3db20e-552a-44ee-b1f9-59c24b81fd3e",
   "metadata": {},
   "source": [
    "### 3. Model Evaluation"
   ]
  },
  {
   "cell_type": "markdown",
   "id": "67a6e8fb-f76c-4dff-8fe2-53d16df8c0b9",
   "metadata": {},
   "source": [
    "Evaluate your linear regression model using appropriate metrics."
   ]
  },
  {
   "cell_type": "code",
   "execution_count": 34,
   "id": "66a226d2-2aae-43dd-9cf4-c5a7098f4ca8",
   "metadata": {},
   "outputs": [],
   "source": [
    "# Predicting\n",
    "y_train_pred = lr_model.predict(X_train)\n",
    "y_test_pred = lr_model.predict(X_test)"
   ]
  },
  {
   "cell_type": "code",
   "execution_count": 35,
   "id": "21c7df6d-f5a8-403b-aa73-46569faf649c",
   "metadata": {},
   "outputs": [
    {
     "name": "stdout",
     "output_type": "stream",
     "text": [
      "The RMSE for Train is : 0.27\n",
      "The RMSE for Test is : 0.32\n"
     ]
    }
   ],
   "source": [
    "## For evaluation we will use R-square and RMSE to compare the test results and compare it with train results\n",
    "\n",
    "\n",
    "### RSME score\n",
    "\n",
    "rmse_train = np.sqrt(mean_squared_error(y_train,y_train_pred))\n",
    "rmse_test = np.sqrt(mean_squared_error(y_test,y_test_pred))\n",
    "\n",
    "print(f'The RMSE for Train is : {rmse_train:.2f}')\n",
    "\n",
    "print(f'The RMSE for Test is : {rmse_test :.2f}')"
   ]
  },
  {
   "cell_type": "code",
   "execution_count": 36,
   "id": "909da57e-4513-4213-80c3-b4e8b2fbff9d",
   "metadata": {},
   "outputs": [
    {
     "name": "stdout",
     "output_type": "stream",
     "text": [
      "The r-square for Train is : 0.75\n",
      "The r-square for Test is : 0.58\n"
     ]
    }
   ],
   "source": [
    "#### R-square score \n",
    "\n",
    "\n",
    "rsquare_train = r2_score(y_train,y_train_pred)\n",
    "rsquare_test = r2_score(y_test,y_test_pred)\n",
    "\n",
    "print(f'The r-square for Train is : {rsquare_train:.2f}')\n",
    "print(f'The r-square for Test is : {rsquare_test :.2f}')"
   ]
  },
  {
   "cell_type": "markdown",
   "id": "528c529b-093e-4f3b-a93c-b70d7539af95",
   "metadata": {},
   "source": [
    "Observation & Interpretation \n",
    "\n",
    "- The RMSE for Train set is 0.27 while the RMSE for Test set is 0.32. We can see that the Test set is performing comparatively worse than the Train set. This shows there is a hint of overfitting.\n",
    "\n",
    "- The r-square for Train is 0.75 while the r-square for Test is 0.58 which shows significant overfitting where the model performs way better on trained data but performs poorly on test data. \n",
    "    "
   ]
  },
  {
   "cell_type": "markdown",
   "id": "8187b83b-87fb-4e64-b7a5-61c568e96a91",
   "metadata": {},
   "source": [
    "### 4. Lasso Regularization"
   ]
  },
  {
   "cell_type": "markdown",
   "id": "2f8121b7-51da-4c9b-9ab7-c0f396ba63a5",
   "metadata": {},
   "source": [
    "##### QUestion - Is there a need for Lasso regularization\n",
    "##### Answer - \n",
    "Possibly yes, since the RMSE score for training set and test set are dissimilar which shows that our model, although fits \n",
    "really well on the known data, fails to perform to the same level with unseen data. This is also confirmed when we compare the r-square metric for both train and test data.\n"
   ]
  },
  {
   "cell_type": "code",
   "execution_count": 37,
   "id": "68384225-6f2a-414f-8fd6-cc1ec74b4ad1",
   "metadata": {},
   "outputs": [
    {
     "data": {
      "text/html": [
       "<style>#sk-container-id-2 {color: black;}#sk-container-id-2 pre{padding: 0;}#sk-container-id-2 div.sk-toggleable {background-color: white;}#sk-container-id-2 label.sk-toggleable__label {cursor: pointer;display: block;width: 100%;margin-bottom: 0;padding: 0.3em;box-sizing: border-box;text-align: center;}#sk-container-id-2 label.sk-toggleable__label-arrow:before {content: \"▸\";float: left;margin-right: 0.25em;color: #696969;}#sk-container-id-2 label.sk-toggleable__label-arrow:hover:before {color: black;}#sk-container-id-2 div.sk-estimator:hover label.sk-toggleable__label-arrow:before {color: black;}#sk-container-id-2 div.sk-toggleable__content {max-height: 0;max-width: 0;overflow: hidden;text-align: left;background-color: #f0f8ff;}#sk-container-id-2 div.sk-toggleable__content pre {margin: 0.2em;color: black;border-radius: 0.25em;background-color: #f0f8ff;}#sk-container-id-2 input.sk-toggleable__control:checked~div.sk-toggleable__content {max-height: 200px;max-width: 100%;overflow: auto;}#sk-container-id-2 input.sk-toggleable__control:checked~label.sk-toggleable__label-arrow:before {content: \"▾\";}#sk-container-id-2 div.sk-estimator input.sk-toggleable__control:checked~label.sk-toggleable__label {background-color: #d4ebff;}#sk-container-id-2 div.sk-label input.sk-toggleable__control:checked~label.sk-toggleable__label {background-color: #d4ebff;}#sk-container-id-2 input.sk-hidden--visually {border: 0;clip: rect(1px 1px 1px 1px);clip: rect(1px, 1px, 1px, 1px);height: 1px;margin: -1px;overflow: hidden;padding: 0;position: absolute;width: 1px;}#sk-container-id-2 div.sk-estimator {font-family: monospace;background-color: #f0f8ff;border: 1px dotted black;border-radius: 0.25em;box-sizing: border-box;margin-bottom: 0.5em;}#sk-container-id-2 div.sk-estimator:hover {background-color: #d4ebff;}#sk-container-id-2 div.sk-parallel-item::after {content: \"\";width: 100%;border-bottom: 1px solid gray;flex-grow: 1;}#sk-container-id-2 div.sk-label:hover label.sk-toggleable__label {background-color: #d4ebff;}#sk-container-id-2 div.sk-serial::before {content: \"\";position: absolute;border-left: 1px solid gray;box-sizing: border-box;top: 0;bottom: 0;left: 50%;z-index: 0;}#sk-container-id-2 div.sk-serial {display: flex;flex-direction: column;align-items: center;background-color: white;padding-right: 0.2em;padding-left: 0.2em;position: relative;}#sk-container-id-2 div.sk-item {position: relative;z-index: 1;}#sk-container-id-2 div.sk-parallel {display: flex;align-items: stretch;justify-content: center;background-color: white;position: relative;}#sk-container-id-2 div.sk-item::before, #sk-container-id-2 div.sk-parallel-item::before {content: \"\";position: absolute;border-left: 1px solid gray;box-sizing: border-box;top: 0;bottom: 0;left: 50%;z-index: -1;}#sk-container-id-2 div.sk-parallel-item {display: flex;flex-direction: column;z-index: 1;position: relative;background-color: white;}#sk-container-id-2 div.sk-parallel-item:first-child::after {align-self: flex-end;width: 50%;}#sk-container-id-2 div.sk-parallel-item:last-child::after {align-self: flex-start;width: 50%;}#sk-container-id-2 div.sk-parallel-item:only-child::after {width: 0;}#sk-container-id-2 div.sk-dashed-wrapped {border: 1px dashed gray;margin: 0 0.4em 0.5em 0.4em;box-sizing: border-box;padding-bottom: 0.4em;background-color: white;}#sk-container-id-2 div.sk-label label {font-family: monospace;font-weight: bold;display: inline-block;line-height: 1.2em;}#sk-container-id-2 div.sk-label-container {text-align: center;}#sk-container-id-2 div.sk-container {/* jupyter's `normalize.less` sets `[hidden] { display: none; }` but bootstrap.min.css set `[hidden] { display: none !important; }` so we also need the `!important` here to be able to override the default hidden behavior on the sphinx rendered scikit-learn.org. See: https://github.com/scikit-learn/scikit-learn/issues/21755 */display: inline-block !important;position: relative;}#sk-container-id-2 div.sk-text-repr-fallback {display: none;}</style><div id=\"sk-container-id-2\" class=\"sk-top-container\"><div class=\"sk-text-repr-fallback\"><pre>Lasso(alpha=0.01, random_state=19)</pre><b>In a Jupyter environment, please rerun this cell to show the HTML representation or trust the notebook. <br />On GitHub, the HTML representation is unable to render, please try loading this page with nbviewer.org.</b></div><div class=\"sk-container\" hidden><div class=\"sk-item\"><div class=\"sk-estimator sk-toggleable\"><input class=\"sk-toggleable__control sk-hidden--visually\" id=\"sk-estimator-id-2\" type=\"checkbox\" checked><label for=\"sk-estimator-id-2\" class=\"sk-toggleable__label sk-toggleable__label-arrow\">Lasso</label><div class=\"sk-toggleable__content\"><pre>Lasso(alpha=0.01, random_state=19)</pre></div></div></div></div></div>"
      ],
      "text/plain": [
       "Lasso(alpha=0.01, random_state=19)"
      ]
     },
     "execution_count": 37,
     "metadata": {},
     "output_type": "execute_result"
    }
   ],
   "source": [
    "# Lasso Regression model training\n",
    "\n",
    "lasso_model = Lasso(alpha=0.01,random_state=19)\n",
    "lasso_model.fit(X_train,y_train)"
   ]
  },
  {
   "cell_type": "code",
   "execution_count": 38,
   "id": "6d164f78-d2f4-4e3d-a3af-f8e4b4350bfa",
   "metadata": {},
   "outputs": [],
   "source": [
    "## Evaluating Lasso\n",
    "\n",
    "# Predicting\n",
    "y_train_pred_lasso = lasso_model.predict(X_train)\n",
    "y_test_pred_lasso = lasso_model.predict(X_test)"
   ]
  },
  {
   "cell_type": "code",
   "execution_count": 39,
   "id": "f8aa0a57-d6e9-4cc6-bc38-5325bd5c1afa",
   "metadata": {},
   "outputs": [
    {
     "name": "stdout",
     "output_type": "stream",
     "text": [
      "The Lasso RMSE for Train is : 0.29\n",
      "The Lasso RMSE for Test is : 0.31\n"
     ]
    }
   ],
   "source": [
    "### RSME score\n",
    "\n",
    "rmse_train_lasso = np.sqrt(mean_squared_error(y_train,y_train_pred_lasso))\n",
    "rmse_test_lasso = np.sqrt(mean_squared_error(y_test,y_test_pred_lasso))\n",
    "\n",
    "print(f'The Lasso RMSE for Train is : {rmse_train_lasso:.2f}')\n",
    "\n",
    "print(f'The Lasso RMSE for Test is : {rmse_test_lasso :.2f}')"
   ]
  },
  {
   "cell_type": "code",
   "execution_count": 40,
   "id": "22f3c251-c00a-4e3d-a1c0-53bd9ee1e77a",
   "metadata": {},
   "outputs": [
    {
     "name": "stdout",
     "output_type": "stream",
     "text": [
      "The r-square for Train is : 0.72\n",
      "The r-square for Test is : 0.62\n"
     ]
    }
   ],
   "source": [
    "#### R-square score \n",
    "\n",
    "\n",
    "rsquare_train_lasso = r2_score(y_train,y_train_pred_lasso)\n",
    "rsquare_test_lasso = r2_score(y_test,y_test_pred_lasso)\n",
    "\n",
    "print(f'The r-square for Train is : {rsquare_train_lasso:.2f}')\n",
    "print(f'The r-square for Test is : {rsquare_test_lasso :.2f}')"
   ]
  },
  {
   "cell_type": "markdown",
   "id": "45707505-2e9f-488f-a325-7b12081dd3ce",
   "metadata": {},
   "source": [
    "Observation & Interpretation \n",
    "\n",
    "- We can see that applying Lasso regularization with alpha of 0.01, the train and test scores (both RMSE and r-square) are comparatively closer than before.\n",
    "This shows that we are sacrificing some of the training accuracy to improve our test score. That means our model is generalizing better and is rectifying the overfitting problem in the 3rd part.\n",
    "\n",
    "- Here the r-square for train and test set for lasso is 0.72 & 0.62 compared to 0.75 & 0.58 when we hadn't applied lasso.\n",
    "- Also the RMSE for train and test set for lasso is 0.29 & 0.31 compared to 0.27 & 0.32 when we hadn't applied lasso."
   ]
  },
  {
   "cell_type": "markdown",
   "id": "94c24e1c-3f10-4165-b87f-e41afc3761f3",
   "metadata": {},
   "source": [
    "### 5. Out-of-sample performance"
   ]
  },
  {
   "cell_type": "markdown",
   "id": "245eb7c3-3823-445a-a50a-d2e1d3b6ec6d",
   "metadata": {},
   "source": [
    "#### Linear Regression Model"
   ]
  },
  {
   "cell_type": "code",
   "execution_count": 145,
   "id": "ceb9a356-fa3d-4643-a996-1ec69642a19c",
   "metadata": {},
   "outputs": [
    {
     "data": {
      "text/html": [
       "<style>#sk-container-id-16 {color: black;}#sk-container-id-16 pre{padding: 0;}#sk-container-id-16 div.sk-toggleable {background-color: white;}#sk-container-id-16 label.sk-toggleable__label {cursor: pointer;display: block;width: 100%;margin-bottom: 0;padding: 0.3em;box-sizing: border-box;text-align: center;}#sk-container-id-16 label.sk-toggleable__label-arrow:before {content: \"▸\";float: left;margin-right: 0.25em;color: #696969;}#sk-container-id-16 label.sk-toggleable__label-arrow:hover:before {color: black;}#sk-container-id-16 div.sk-estimator:hover label.sk-toggleable__label-arrow:before {color: black;}#sk-container-id-16 div.sk-toggleable__content {max-height: 0;max-width: 0;overflow: hidden;text-align: left;background-color: #f0f8ff;}#sk-container-id-16 div.sk-toggleable__content pre {margin: 0.2em;color: black;border-radius: 0.25em;background-color: #f0f8ff;}#sk-container-id-16 input.sk-toggleable__control:checked~div.sk-toggleable__content {max-height: 200px;max-width: 100%;overflow: auto;}#sk-container-id-16 input.sk-toggleable__control:checked~label.sk-toggleable__label-arrow:before {content: \"▾\";}#sk-container-id-16 div.sk-estimator input.sk-toggleable__control:checked~label.sk-toggleable__label {background-color: #d4ebff;}#sk-container-id-16 div.sk-label input.sk-toggleable__control:checked~label.sk-toggleable__label {background-color: #d4ebff;}#sk-container-id-16 input.sk-hidden--visually {border: 0;clip: rect(1px 1px 1px 1px);clip: rect(1px, 1px, 1px, 1px);height: 1px;margin: -1px;overflow: hidden;padding: 0;position: absolute;width: 1px;}#sk-container-id-16 div.sk-estimator {font-family: monospace;background-color: #f0f8ff;border: 1px dotted black;border-radius: 0.25em;box-sizing: border-box;margin-bottom: 0.5em;}#sk-container-id-16 div.sk-estimator:hover {background-color: #d4ebff;}#sk-container-id-16 div.sk-parallel-item::after {content: \"\";width: 100%;border-bottom: 1px solid gray;flex-grow: 1;}#sk-container-id-16 div.sk-label:hover label.sk-toggleable__label {background-color: #d4ebff;}#sk-container-id-16 div.sk-serial::before {content: \"\";position: absolute;border-left: 1px solid gray;box-sizing: border-box;top: 0;bottom: 0;left: 50%;z-index: 0;}#sk-container-id-16 div.sk-serial {display: flex;flex-direction: column;align-items: center;background-color: white;padding-right: 0.2em;padding-left: 0.2em;position: relative;}#sk-container-id-16 div.sk-item {position: relative;z-index: 1;}#sk-container-id-16 div.sk-parallel {display: flex;align-items: stretch;justify-content: center;background-color: white;position: relative;}#sk-container-id-16 div.sk-item::before, #sk-container-id-16 div.sk-parallel-item::before {content: \"\";position: absolute;border-left: 1px solid gray;box-sizing: border-box;top: 0;bottom: 0;left: 50%;z-index: -1;}#sk-container-id-16 div.sk-parallel-item {display: flex;flex-direction: column;z-index: 1;position: relative;background-color: white;}#sk-container-id-16 div.sk-parallel-item:first-child::after {align-self: flex-end;width: 50%;}#sk-container-id-16 div.sk-parallel-item:last-child::after {align-self: flex-start;width: 50%;}#sk-container-id-16 div.sk-parallel-item:only-child::after {width: 0;}#sk-container-id-16 div.sk-dashed-wrapped {border: 1px dashed gray;margin: 0 0.4em 0.5em 0.4em;box-sizing: border-box;padding-bottom: 0.4em;background-color: white;}#sk-container-id-16 div.sk-label label {font-family: monospace;font-weight: bold;display: inline-block;line-height: 1.2em;}#sk-container-id-16 div.sk-label-container {text-align: center;}#sk-container-id-16 div.sk-container {/* jupyter's `normalize.less` sets `[hidden] { display: none; }` but bootstrap.min.css set `[hidden] { display: none !important; }` so we also need the `!important` here to be able to override the default hidden behavior on the sphinx rendered scikit-learn.org. See: https://github.com/scikit-learn/scikit-learn/issues/21755 */display: inline-block !important;position: relative;}#sk-container-id-16 div.sk-text-repr-fallback {display: none;}</style><div id=\"sk-container-id-16\" class=\"sk-top-container\"><div class=\"sk-text-repr-fallback\"><pre>LinearRegression()</pre><b>In a Jupyter environment, please rerun this cell to show the HTML representation or trust the notebook. <br />On GitHub, the HTML representation is unable to render, please try loading this page with nbviewer.org.</b></div><div class=\"sk-container\" hidden><div class=\"sk-item\"><div class=\"sk-estimator sk-toggleable\"><input class=\"sk-toggleable__control sk-hidden--visually\" id=\"sk-estimator-id-16\" type=\"checkbox\" checked><label for=\"sk-estimator-id-16\" class=\"sk-toggleable__label sk-toggleable__label-arrow\">LinearRegression</label><div class=\"sk-toggleable__content\"><pre>LinearRegression()</pre></div></div></div></div></div>"
      ],
      "text/plain": [
       "LinearRegression()"
      ]
     },
     "execution_count": 145,
     "metadata": {},
     "output_type": "execute_result"
    }
   ],
   "source": [
    "## Splitting the data afresh\n",
    "\n",
    "X_train, X_test, y_train, y_test = train_test_split(X, y,  test_size=0.2, random_state=10)\n",
    "lr_model = LinearRegression()\n",
    "lr_model.fit(X_train,y_train)"
   ]
  },
  {
   "cell_type": "code",
   "execution_count": null,
   "id": "081cfd81-4004-4e0e-b84d-181c889e5f4f",
   "metadata": {},
   "outputs": [],
   "source": [
    "## Information Criterias only on Train set"
   ]
  },
  {
   "cell_type": "code",
   "execution_count": 146,
   "id": "a561d9a4-19c1-4626-8866-c8d7ed68e338",
   "metadata": {},
   "outputs": [
    {
     "name": "stdout",
     "output_type": "stream",
     "text": [
      "\n",
      "\n",
      "IC values for Linear Regression model on train set :\n",
      "\n",
      "\n",
      "AIC: 85.99869646432268\n",
      "AICc: 90.17988113331222\n",
      "BIC: 175.83077297175026\n"
     ]
    }
   ],
   "source": [
    "y_pred_train = lr_model.predict(X_train)\n",
    "rss = np.sum((y_train-y_pred_train)**2)\n",
    "n = len(y_train)\n",
    "p=X_test.shape[1]+1\n",
    "\n",
    "log_likelihood = -n/2 * np.log(2 * np.pi) - n/2 * np.log(rss/n) - 1/(2 * rss/n) * rss\n",
    "\n",
    "aic_train = -2 * log_likelihood + 2 * p\n",
    "aicc_train = aic_train + + (2 * p * (p + 1)) / (n - p - 1)\n",
    "bic_train = -2 * log_likelihood + np.log(n) * p\n",
    "\n",
    "## IC values for Linear Regression model on train set\n",
    "print('\\n')\n",
    "print('IC values for Linear Regression model on train set :')\n",
    "print('\\n')\n",
    "\n",
    "print(f\"AIC: {aic_train}\")\n",
    "print(f\"AICc: {aicc_train}\")\n",
    "print(f\"BIC: {bic_train}\")"
   ]
  },
  {
   "cell_type": "code",
   "execution_count": 147,
   "id": "422eb54c-9968-47e5-abbe-db1a8cd88f76",
   "metadata": {},
   "outputs": [
    {
     "name": "stdout",
     "output_type": "stream",
     "text": [
      "\n",
      "\n",
      "R_Square & RMSE for Linear Regression model on train set :\n",
      "\n",
      "\n",
      "R squared: 0.74\n",
      "RMSE: 0.26\n"
     ]
    }
   ],
   "source": [
    "## Deviance values for LR on train set\n",
    "y_pred_train = lr_model.predict(X_train)\n",
    "r_square_train = r2_score(y_train,y_pred_train)\n",
    "rmse_train = np.sqrt(mean_squared_error(y_train,y_pred_train))\n",
    "\n",
    "print('\\n')\n",
    "print('R_Square & RMSE for Linear Regression model on train set :')\n",
    "print('\\n')\n",
    "\n",
    "print(f\"R squared: {np.round(r_square_train,2)}\")\n",
    "print(f\"RMSE: {np.round(rmse_train,2)}\")"
   ]
  },
  {
   "cell_type": "code",
   "execution_count": 148,
   "id": "fabf6169-cb30-4dc4-b199-ed1c50a04d0e",
   "metadata": {},
   "outputs": [
    {
     "name": "stdout",
     "output_type": "stream",
     "text": [
      "The R_square for the CV is : 0.69\n"
     ]
    }
   ],
   "source": [
    "## 5 fold cross Validation using Linear Regression on train set only \n",
    "\n",
    "cv_scores_train = cross_val_score(lr_model, X_train, y_train, cv=5)\n",
    "print(f'The R_square for the CV is : {np.round(np.mean(cv_scores_train),2)}')"
   ]
  },
  {
   "cell_type": "markdown",
   "id": "a64082dc-ec72-439b-9b61-5143d64df0bf",
   "metadata": {},
   "source": [
    "#### Lasso Regression Model"
   ]
  },
  {
   "cell_type": "code",
   "execution_count": 160,
   "id": "b9e0ae84-fb18-418f-9fb3-911c2bb73f17",
   "metadata": {},
   "outputs": [
    {
     "data": {
      "text/html": [
       "<style>#sk-container-id-20 {color: black;}#sk-container-id-20 pre{padding: 0;}#sk-container-id-20 div.sk-toggleable {background-color: white;}#sk-container-id-20 label.sk-toggleable__label {cursor: pointer;display: block;width: 100%;margin-bottom: 0;padding: 0.3em;box-sizing: border-box;text-align: center;}#sk-container-id-20 label.sk-toggleable__label-arrow:before {content: \"▸\";float: left;margin-right: 0.25em;color: #696969;}#sk-container-id-20 label.sk-toggleable__label-arrow:hover:before {color: black;}#sk-container-id-20 div.sk-estimator:hover label.sk-toggleable__label-arrow:before {color: black;}#sk-container-id-20 div.sk-toggleable__content {max-height: 0;max-width: 0;overflow: hidden;text-align: left;background-color: #f0f8ff;}#sk-container-id-20 div.sk-toggleable__content pre {margin: 0.2em;color: black;border-radius: 0.25em;background-color: #f0f8ff;}#sk-container-id-20 input.sk-toggleable__control:checked~div.sk-toggleable__content {max-height: 200px;max-width: 100%;overflow: auto;}#sk-container-id-20 input.sk-toggleable__control:checked~label.sk-toggleable__label-arrow:before {content: \"▾\";}#sk-container-id-20 div.sk-estimator input.sk-toggleable__control:checked~label.sk-toggleable__label {background-color: #d4ebff;}#sk-container-id-20 div.sk-label input.sk-toggleable__control:checked~label.sk-toggleable__label {background-color: #d4ebff;}#sk-container-id-20 input.sk-hidden--visually {border: 0;clip: rect(1px 1px 1px 1px);clip: rect(1px, 1px, 1px, 1px);height: 1px;margin: -1px;overflow: hidden;padding: 0;position: absolute;width: 1px;}#sk-container-id-20 div.sk-estimator {font-family: monospace;background-color: #f0f8ff;border: 1px dotted black;border-radius: 0.25em;box-sizing: border-box;margin-bottom: 0.5em;}#sk-container-id-20 div.sk-estimator:hover {background-color: #d4ebff;}#sk-container-id-20 div.sk-parallel-item::after {content: \"\";width: 100%;border-bottom: 1px solid gray;flex-grow: 1;}#sk-container-id-20 div.sk-label:hover label.sk-toggleable__label {background-color: #d4ebff;}#sk-container-id-20 div.sk-serial::before {content: \"\";position: absolute;border-left: 1px solid gray;box-sizing: border-box;top: 0;bottom: 0;left: 50%;z-index: 0;}#sk-container-id-20 div.sk-serial {display: flex;flex-direction: column;align-items: center;background-color: white;padding-right: 0.2em;padding-left: 0.2em;position: relative;}#sk-container-id-20 div.sk-item {position: relative;z-index: 1;}#sk-container-id-20 div.sk-parallel {display: flex;align-items: stretch;justify-content: center;background-color: white;position: relative;}#sk-container-id-20 div.sk-item::before, #sk-container-id-20 div.sk-parallel-item::before {content: \"\";position: absolute;border-left: 1px solid gray;box-sizing: border-box;top: 0;bottom: 0;left: 50%;z-index: -1;}#sk-container-id-20 div.sk-parallel-item {display: flex;flex-direction: column;z-index: 1;position: relative;background-color: white;}#sk-container-id-20 div.sk-parallel-item:first-child::after {align-self: flex-end;width: 50%;}#sk-container-id-20 div.sk-parallel-item:last-child::after {align-self: flex-start;width: 50%;}#sk-container-id-20 div.sk-parallel-item:only-child::after {width: 0;}#sk-container-id-20 div.sk-dashed-wrapped {border: 1px dashed gray;margin: 0 0.4em 0.5em 0.4em;box-sizing: border-box;padding-bottom: 0.4em;background-color: white;}#sk-container-id-20 div.sk-label label {font-family: monospace;font-weight: bold;display: inline-block;line-height: 1.2em;}#sk-container-id-20 div.sk-label-container {text-align: center;}#sk-container-id-20 div.sk-container {/* jupyter's `normalize.less` sets `[hidden] { display: none; }` but bootstrap.min.css set `[hidden] { display: none !important; }` so we also need the `!important` here to be able to override the default hidden behavior on the sphinx rendered scikit-learn.org. See: https://github.com/scikit-learn/scikit-learn/issues/21755 */display: inline-block !important;position: relative;}#sk-container-id-20 div.sk-text-repr-fallback {display: none;}</style><div id=\"sk-container-id-20\" class=\"sk-top-container\"><div class=\"sk-text-repr-fallback\"><pre>Lasso(alpha=0.001, random_state=10)</pre><b>In a Jupyter environment, please rerun this cell to show the HTML representation or trust the notebook. <br />On GitHub, the HTML representation is unable to render, please try loading this page with nbviewer.org.</b></div><div class=\"sk-container\" hidden><div class=\"sk-item\"><div class=\"sk-estimator sk-toggleable\"><input class=\"sk-toggleable__control sk-hidden--visually\" id=\"sk-estimator-id-20\" type=\"checkbox\" checked><label for=\"sk-estimator-id-20\" class=\"sk-toggleable__label sk-toggleable__label-arrow\">Lasso</label><div class=\"sk-toggleable__content\"><pre>Lasso(alpha=0.001, random_state=10)</pre></div></div></div></div></div>"
      ],
      "text/plain": [
       "Lasso(alpha=0.001, random_state=10)"
      ]
     },
     "execution_count": 160,
     "metadata": {},
     "output_type": "execute_result"
    }
   ],
   "source": [
    "lasso_model = Lasso(alpha=0.001,random_state=10)\n",
    "lasso_model.fit(X_train,y_train)"
   ]
  },
  {
   "cell_type": "code",
   "execution_count": 161,
   "id": "d9a53a6b-2bbd-4381-8a4f-c39ee9c219a0",
   "metadata": {},
   "outputs": [
    {
     "name": "stdout",
     "output_type": "stream",
     "text": [
      "\n",
      "\n",
      "IC values for Lasso Regression model on train set :\n",
      "\n",
      "\n",
      "AIC: 91.07653093352371\n",
      "AICc: 95.25771560251326\n",
      "BIC: 180.9086074409513\n"
     ]
    }
   ],
   "source": [
    "## IC on test set \n",
    "y_pred_train = lasso_model.predict(X_train)\n",
    "rss = np.sum((y_train-y_pred_train)**2)\n",
    "n = len(y_train)\n",
    "p=X_test.shape[1]+1\n",
    "\n",
    "log_likelihood = -n/2 * np.log(2 * np.pi) - n/2 * np.log(rss/n) - 1/(2 * rss/n) * rss\n",
    "\n",
    "aic_train = -2 * log_likelihood + 2 * p\n",
    "aicc_train = aic_train + + (2 * p * (p + 1)) / (n - p - 1)\n",
    "bic_train = -2 * log_likelihood + np.log(n) * p\n",
    "\n",
    "## IC values for Lasso Regression model on train set\n",
    "print('\\n')\n",
    "print('IC values for Lasso Regression model on train set :')\n",
    "print('\\n')\n",
    "\n",
    "print(f\"AIC: {aic_train}\")\n",
    "print(f\"AICc: {aicc_train}\")\n",
    "print(f\"BIC: {bic_train}\")"
   ]
  },
  {
   "cell_type": "code",
   "execution_count": 162,
   "id": "7f76ce5f-cecf-4a37-9a73-bb9d092630cc",
   "metadata": {},
   "outputs": [
    {
     "name": "stdout",
     "output_type": "stream",
     "text": [
      "\n",
      "\n",
      "R_Square & RMSE for Lasso Regression model on train set :\n",
      "\n",
      "\n",
      "R squared: 0.73\n",
      "RMSE: 0.26\n"
     ]
    }
   ],
   "source": [
    "## Deviance values for Lasso Regression on train set\n",
    "y_pred_train = lasso_model.predict(X_train)\n",
    "r_square_train = r2_score(y_train,y_pred_train)\n",
    "rmse_train = np.sqrt(mean_squared_error(y_train,y_pred_train))\n",
    "\n",
    "print('\\n')\n",
    "print('R_Square & RMSE for Lasso Regression model on train set :')\n",
    "print('\\n')\n",
    "\n",
    "print(f\"R squared: {np.round(r_square_train,2)}\")\n",
    "print(f\"RMSE: {np.round(rmse_train,2)}\")"
   ]
  },
  {
   "cell_type": "code",
   "execution_count": 163,
   "id": "481c6d03-6958-4b45-9210-3607b6bd467e",
   "metadata": {},
   "outputs": [
    {
     "name": "stdout",
     "output_type": "stream",
     "text": [
      "The R_square for the CV is : 0.699\n"
     ]
    }
   ],
   "source": [
    "## 5 fold cross Validation using Lasso Regression on train set only \n",
    "\n",
    "cv_scores_train = cross_val_score(lasso_model, X_train, y_train, cv=5)\n",
    "print(f'The R_square for the CV is : {np.round(np.mean(cv_scores_train),3)}')\n"
   ]
  },
  {
   "cell_type": "markdown",
   "id": "2ecbac2e-e009-4295-8da3-fff5ac606efe",
   "metadata": {},
   "source": [
    "#### Models true OOS performance (Calculate deviances on Test set)\n",
    "\n"
   ]
  },
  {
   "cell_type": "markdown",
   "id": "2b2e5d9a-8ac8-4261-a613-ccbe4671c5e2",
   "metadata": {},
   "source": [
    "##### Linear Regression"
   ]
  },
  {
   "cell_type": "code",
   "execution_count": 164,
   "id": "47edc45f-a1c3-427a-81ab-523afd901efe",
   "metadata": {},
   "outputs": [
    {
     "name": "stdout",
     "output_type": "stream",
     "text": [
      "\n",
      "\n",
      "R_Square & RMSE for Linear Regression model on test set :\n",
      "\n",
      "\n",
      "R squared: 0.64\n",
      "RMSE: 0.36\n"
     ]
    }
   ],
   "source": [
    "# Predict \n",
    "y_pred_test = lr_model.predict(X_test)\n",
    "r_square_test = r2_score(y_test,y_pred_test)\n",
    "rmse_test = np.sqrt(mean_squared_error(y_test,y_pred_test))\n",
    "\n",
    "print('\\n')\n",
    "print('R_Square & RMSE for Linear Regression model on test set :')\n",
    "print('\\n')\n",
    "\n",
    "print(f\"R squared: {np.round(r_square_test,2)}\")\n",
    "print(f\"RMSE: {np.round(rmse_test,2)}\")"
   ]
  },
  {
   "cell_type": "code",
   "execution_count": 165,
   "id": "941aaedf-7897-4561-91da-8fb3531df9ec",
   "metadata": {},
   "outputs": [
    {
     "name": "stdout",
     "output_type": "stream",
     "text": [
      "\n",
      "\n",
      "R_Square & RMSE for Lasso Regression model on test set :\n",
      "\n",
      "\n",
      "R squared: 0.63\n",
      "RMSE: 0.37\n"
     ]
    }
   ],
   "source": [
    "# Predict \n",
    "y_pred_test = lasso_model.predict(X_test)\n",
    "r_square_test = r2_score(y_test,y_pred_test)\n",
    "rmse_test = np.sqrt(mean_squared_error(y_test,y_pred_test))\n",
    "\n",
    "print('\\n')\n",
    "print('R_Square & RMSE for Lasso Regression model on test set :')\n",
    "print('\\n')\n",
    "\n",
    "print(f\"R squared: {np.round(r_square_test,2)}\")\n",
    "print(f\"RMSE: {np.round(rmse_test,2)}\")"
   ]
  },
  {
   "cell_type": "markdown",
   "id": "368198d2-53b9-4b7d-a261-92cd0fb9fcf3",
   "metadata": {},
   "source": [
    "Linear Regression \n",
    "\n",
    "RMSE\n",
    "- Train : 0.26\n",
    "- Test : 0.36 (Out of sample performance)\n",
    "\n",
    "R_Square\n",
    "- Train : 74%\n",
    "- Test : 64% (out of sample performance)\n",
    "- CV : 69%\n",
    "\n",
    "Lasso Regression \n",
    "\n",
    "RMSE \n",
    "- Train : 0.27\n",
    "- Test : 0.37 (Out of sample performance)\n",
    "\n",
    "R_Square\n",
    "- Train : 71%\n",
    "- Test : 63% (out of sample performance)\n",
    "- CV : 69%"
   ]
  },
  {
   "cell_type": "markdown",
   "id": "904706d4-d51c-44f3-abf6-60c2b8365cac",
   "metadata": {},
   "source": [
    "IC values for for Linear Regression on train set\n",
    "\n",
    "AIC: 85.99\n",
    "AICc: 90.17\n",
    "BIC: 175.83\n",
    "\n",
    "IC values for Lasso Regression model on train set :\n",
    "\n",
    "AIC: 91.07\n",
    "AICc: 95.25\n",
    "BIC: 180.90\n",
    "\n",
    "- Here we can see that the IC values decrease when we apply the lasso regression model since the lasso is cutting down features which might be inmportant for the model. This is something we can see in the RMSE score for Linear Regression as well\n",
    "\n",
    "- RMSE score on train\n",
    "\n",
    "Linear Regression - 0.26\n",
    "Lasso Regression - 0.27\n",
    "\n",
    "We can see that the RMSE Score decreases on the train (in sample) set when we apply Lasso\n",
    "\n",
    "- RMSE score on test (out of sample)\n",
    "Linear Regression - 0.36\n",
    "Lasso Regression - 0.37\n",
    "\n",
    "We can see here that the RMSE score on out of sample data. This can happen when Lasso is removing important features which are beneficial to the model. \n",
    "\n",
    "\n",
    "- The cross validation R-square (0.69) is lower than the in sample r-square (0.74 % 0.71) in both the models and more closer to the out of sample r-square. "
   ]
  },
  {
   "cell_type": "code",
   "execution_count": null,
   "id": "73152f31-0504-4672-b03e-d17d2116a44b",
   "metadata": {},
   "outputs": [],
   "source": []
  }
 ],
 "metadata": {
  "kernelspec": {
   "display_name": "Python 3 (ipykernel)",
   "language": "python",
   "name": "python3"
  },
  "language_info": {
   "codemirror_mode": {
    "name": "ipython",
    "version": 3
   },
   "file_extension": ".py",
   "mimetype": "text/x-python",
   "name": "python",
   "nbconvert_exporter": "python",
   "pygments_lexer": "ipython3",
   "version": "3.11.5"
  }
 },
 "nbformat": 4,
 "nbformat_minor": 5
}
